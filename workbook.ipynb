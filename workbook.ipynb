{
  "cells": [
    {
      "cell_type": "markdown",
      "metadata": {
        "colab_type": "text",
        "id": "view-in-github"
      },
      "source": [
        "<a href=\"https://colab.research.google.com/github/Catherine-Elkin/How.To.Be.A.Data.Scientist/blob/main/workbook.ipynb\" target=\"_parent\"><img src=\"https://colab.research.google.com/assets/colab-badge.svg\" alt=\"Open In Colab\"/></a>"
      ]
    },
    {
      "attachments": {},
      "cell_type": "markdown",
      "metadata": {
        "id": "OzKeKK4W3EHn"
      },
      "source": [
        "# How To Be A Data Scientist: Python 101 Workbook \n",
        "This is a blank Jupyter notebook file for you to work on and try out some of the things that you will be shown throughout the course. \n",
        "\n",
        "### Why not try:\n",
        "* Importing a dataset\n",
        "* Cleaning a dataset\n",
        "* Making some surface level stats (mean, median, mode) into a table\n",
        "* Creating some graphs and charts\n",
        "* Converting continuous data to categorical data\n",
        "* Creating some contingency tables \n",
        "\n",
        "\n",
        "**At the end of the Future Me week, you will then export this workbook and upload it as evidence of your participation.** This will earn you your RISE points and your micro-accreditation for this course. Don't worry if not all the code is running perfectly (or at all!) before you submit, we just need to know that you gave everything a go.\n",
        "\n",
        "When trying out the following exercises - you can work with any of the databases in the data folder. Of course, you can stick with the Titanic dataset if you would prefer to work with something you are familiar with. However, you should at least look over some of these other datasets so you can see the different ways data can be structured - and see if any interest you!\n",
        "\n",
        "### If you get stuck:\n",
        "\n",
        "1) **ALL** of the code in this notebook has been covered throughout your course. Check back through your workbook and your notes from previous days if you can't remember how to do something.\n",
        "\n",
        "2) Try looking at the error message. It will often tell you the problem (you can google the words if you don't understand) but it will also point to the exact line you need to fix!\n"
      ]
    },
    {
      "cell_type": "code",
      "execution_count": null,
      "metadata": {
        "id": "DLyG56Bi3EH0"
      },
      "outputs": [],
      "source": [
        "# Before we start running any of the code we need to import all our modules \n",
        "# Run this cell at the beginning before you run any of the other cells \n",
        "import pandas as pd\n",
        "import numpy as np\n",
        "import matplotlib.pyplot as plt"
      ]
    },
    {
      "cell_type": "code",
      "execution_count": null,
      "metadata": {
        "id": "Dwylm70XKFID"
      },
      "outputs": [],
      "source": [
        "# Have you noticed that text with a hashtag in front of it will be ignored by Python? \n",
        "# This is a great way for programmers to leave notes to themselves about what they have done.\n",
        "# Feel free to do the same and write notes to yourself throughout this workbook - just remember to use the hashtag! "
      ]
    },
    {
      "cell_type": "markdown",
      "metadata": {
        "id": "5I15PQlb3EH2"
      },
      "source": [
        "## Day One: Introduction to Python and Python for Data Analysis\n",
        "Task objectives:\n",
        "- Work through basic Python problems \n",
        "- Run basic data methods "
      ]
    },
    {
      "cell_type": "code",
      "execution_count": null,
      "metadata": {
        "id": "4QlheTQT3EH3"
      },
      "outputs": [],
      "source": [
        "# Try running this cell. What's wrong with it ? \n",
        "# Can you try fix the code so that the code will print a number \n",
        "# Hint: The error message is pointing to the problem!\n",
        "\n",
        "x = \n",
        "\n",
        "print(x)"
      ]
    },
    {
      "cell_type": "code",
      "execution_count": null,
      "metadata": {
        "id": "SC8eUigE3EH5"
      },
      "outputs": [],
      "source": [
        "# This exercise will test your knowledge of each data type. Fill in the required answers below.\n",
        "# Hint: If you are unsure, you can go back to the material for Day 1 - it will tell you!\n",
        "# Why not try and write your own version with the variables below !\n",
        "\n",
        "# What data type would you store you name in ? \n",
        "name = \n",
        "\n",
        "# What data type would you use to store your age ? \n",
        "age = \n",
        "\n",
        "# What data type would be used for a grade between 1 and 0 ?\n",
        "average_score = \n",
        "\n",
        "# What could you do to store your decision about whether you are taking a placement year or not?\n",
        "placement_year = \n"
      ]
    },
    {
      "cell_type": "code",
      "execution_count": null,
      "metadata": {
        "id": "SISVvIUQ3EH6"
      },
      "outputs": [],
      "source": [
        "# Try inserting the above variables into the below bit of code - where do you think they need to go?\n",
        "# Hint: Notice the use of curly brackets - what does that tell you about the conventions you need to use?\n",
        "student_record = {}\n"
      ]
    },
    {
      "cell_type": "code",
      "execution_count": null,
      "metadata": {
        "id": "inqpeEiW3EH7"
      },
      "outputs": [],
      "source": [
        "# If you are finding this easy so far, why not try inserting a list to add more student data to the student_record dictonary?\n"
      ]
    },
    {
      "cell_type": "markdown",
      "metadata": {
        "id": "MWNfj1AdLpCi"
      },
      "source": [
        "In the cell below, the titanic data has been imported and stored in a variable called 'titanic'. Run this cell to start working with the data.\n",
        "\n",
        "You will notice there are several options below to import the data. We have set up one for you to use whilst connected to the internet.\n",
        "\n",
        "However, if you want to be able to run this locally on your machine, you can select the option for this - just remember to put a hashtag (#) before the unwanted code so Python doesn't read it!"
      ]
    },
    {
      "cell_type": "code",
      "execution_count": null,
      "metadata": {
        "id": "xu880tKf3EH8"
      },
      "outputs": [],
      "source": [
        "# If you are having errors when trying to import the data make sure:\n",
        "# - That you have ran the cell that imports the pandas library as pd\n",
        "# - That your device have an internet connection\n",
        "titanic = pd.read_csv('https://raw.githubusercontent.com/chroadhouse/FutureMeWorkbook/main/Data/titanic.csv')\n"
      ]
    },
    {
      "cell_type": "code",
      "execution_count": null,
      "metadata": {
        "id": "IFyPyJ7DMQXG"
      },
      "outputs": [],
      "source": [
        "# Try running the method we use to test whether the data set has been imported correctly."
      ]
    },
    {
      "cell_type": "code",
      "execution_count": null,
      "metadata": {
        "id": "QtWhDBBQ3EH9"
      },
      "outputs": [],
      "source": [
        "# Try running the code to find the name of the columns on the data."
      ]
    },
    {
      "cell_type": "code",
      "execution_count": null,
      "metadata": {
        "id": "SwNdRuv_3EH-"
      },
      "outputs": [],
      "source": [
        "# What code could we run to find the count of how many NaN's there are and what data types are present?"
      ]
    },
    {
      "cell_type": "code",
      "execution_count": null,
      "metadata": {
        "id": "y_DsUB2u3EH_"
      },
      "outputs": [],
      "source": [
        "# Use a method to create a table of all the stats for the quantitative columns."
      ]
    },
    {
      "cell_type": "markdown",
      "metadata": {
        "id": "Jq6kcOw23EH_"
      },
      "source": [
        "## Day Two: Understanding and Visualising Data\n",
        "Task objective:\n",
        "- Create your own table of stats for a quantitative column of the dataset you have chosen\n",
        "\n",
        "Today you can use any of the provided datasets, the details of which can be found below. \n",
        "\n",
        "*Reminder* - you can use **.column** to find out the names of the columns.\n",
        "\n",
        "#### **Titanic**\n",
        "The titanic dataset contains information about the people that were on the ship.\n",
        "\n",
        "Use this link to import the CSV: https://raw.githubusercontent.com/chroadhouse/FutureMeWorkbook/main/Data/titanic.csv\n",
        "\n",
        "\n",
        "#### **Cereal**\n",
        "This dataset looks at cereals in America and their different properties.\n",
        "\n",
        "Use this link to import the CSV: https://raw.githubusercontent.com/chroadhouse/FutureMeWorkbook/main/Data/cereal.csv\n",
        "\n",
        "\n",
        "#### **Crime Survey**\n",
        "\n",
        "This is a reduced verison of Crime Suvery Data for England and Wales.\n",
        "\n",
        "Use the link to import the CSV: https://raw.githubusercontent.com/chroadhouse/FutureMeWorkbook/main/Data/CSEW.csv\n",
        "\n",
        "\n",
        "#### **Video Games** \n",
        "A dataset on the best selling video games all over the world.\n",
        "\n",
        "Copy of the link to import the CSV: https://raw.githubusercontent.com/chroadhouse/FutureMeWorkbook/main/Data/Video_Games_Sales.csv\n",
        "\n",
        "\n"
      ]
    },
    {
      "cell_type": "code",
      "execution_count": null,
      "metadata": {
        "id": "LATHaUJL3EIA"
      },
      "outputs": [],
      "source": [
        "# Import your data set \n",
        "\n",
        "# Put a URL to the raw github webpage\n",
        "data = pd.read_csv('')\n",
        "\n",
        "# Make sure that your data has loaded correctly\n",
        "data.head()\n"
      ]
    },
    {
      "cell_type": "code",
      "execution_count": null,
      "metadata": {
        "id": "xoak70gaB9st"
      },
      "outputs": [],
      "source": [
        "# Use a function to find out all the column names here!"
      ]
    },
    {
      "cell_type": "code",
      "execution_count": null,
      "metadata": {
        "id": "LuTC894C3EIA"
      },
      "outputs": [],
      "source": [
        "# Create variables for mean, median, mode, max, min and standard deviation for a column\n",
        "# Remember - all of this has been covered in the material provided for Day 2. If you're really stuck, we won't judge you if you copy and paste!\n",
        "\n",
        "\n",
        "\n",
        "\n",
        "\n",
        "\n",
        "\n",
        "# Then create a table to store these varaibles \n",
        "\n"
      ]
    },
    {
      "cell_type": "code",
      "execution_count": null,
      "metadata": {
        "id": "GAmydyzU3EIA"
      },
      "outputs": [],
      "source": [
        "# Create a table that stores the value counts of categorical data\n",
        "# You can also try adding a second column that has the percentages if you're feeling ambitious (Hint: look at the Day Two Notebook)!"
      ]
    },
    {
      "cell_type": "code",
      "execution_count": null,
      "metadata": {
        "id": "I2BWMprA3EIB"
      },
      "outputs": [],
      "source": [
        "# Create a Histogram on a column containing quantitative data\n",
        "# Remember to label the x and y axis and give it a title "
      ]
    },
    {
      "cell_type": "code",
      "execution_count": null,
      "metadata": {
        "id": "cy-rIcBb3EIB"
      },
      "outputs": [],
      "source": [
        "# Create a Pie Chart that shows the relationship between two variables using percentages\n",
        "# Don't forget labels and a title "
      ]
    },
    {
      "cell_type": "code",
      "execution_count": null,
      "metadata": {
        "id": "cYc6DT3p3EIC"
      },
      "outputs": [],
      "source": [
        "# Create a Bar Chart with some qualitative data "
      ]
    },
    {
      "cell_type": "markdown",
      "metadata": {
        "id": "p7txspUq3EIC"
      },
      "source": [
        "## Day Three: Cleaning data\n",
        "Task objective:\n",
        "\n",
        "- Clean the data set \n",
        "\n",
        "Not all datasets will always need to be cleaned. Sales data, for example, is often recorded autonatically and thus is unlikely to have any bits missing. Real-life data, on the other hand, is more likley to need cleaning. For example, data from surveys can be problematic, where the person may have left a question blank or interpreted the question incorrectly. Historical data can also pose problems, as information can be lost over time, such as in the titanic dataset.\n",
        "\n",
        "For the Day 3 tasks you will need to use the **titanic dataset**. This will give you great practice cleaning data due to the information that has been lost over time.\n",
        "\n",
        "*Reminder* - NaN stands for 'Not a Number' and is often used to represent a blank cell or missing data. Keep this in mind when appraising the dataset.\n",
        "\n"
      ]
    },
    {
      "cell_type": "code",
      "execution_count": null,
      "metadata": {
        "id": "eH14eJGl3EIC"
      },
      "outputs": [
        {
          "data": {
            "text/html": [
              "<div>\n",
              "<style scoped>\n",
              "    .dataframe tbody tr th:only-of-type {\n",
              "        vertical-align: middle;\n",
              "    }\n",
              "\n",
              "    .dataframe tbody tr th {\n",
              "        vertical-align: top;\n",
              "    }\n",
              "\n",
              "    .dataframe thead th {\n",
              "        text-align: right;\n",
              "    }\n",
              "</style>\n",
              "<table border=\"1\" class=\"dataframe\">\n",
              "  <thead>\n",
              "    <tr style=\"text-align: right;\">\n",
              "      <th></th>\n",
              "      <th>PassengerId</th>\n",
              "      <th>Survived</th>\n",
              "      <th>Pclass</th>\n",
              "      <th>Name</th>\n",
              "      <th>Sex</th>\n",
              "      <th>Age</th>\n",
              "      <th>SibSp</th>\n",
              "      <th>Parch</th>\n",
              "      <th>Ticket</th>\n",
              "      <th>Fare</th>\n",
              "      <th>Cabin</th>\n",
              "      <th>Embarked</th>\n",
              "    </tr>\n",
              "  </thead>\n",
              "  <tbody>\n",
              "    <tr>\n",
              "      <th>0</th>\n",
              "      <td>1</td>\n",
              "      <td>Not Survive</td>\n",
              "      <td>3</td>\n",
              "      <td>Braund, Mr. Owen Harris</td>\n",
              "      <td>male</td>\n",
              "      <td>22.0</td>\n",
              "      <td>1</td>\n",
              "      <td>0</td>\n",
              "      <td>A/5 21171</td>\n",
              "      <td>7.2500</td>\n",
              "      <td>NaN</td>\n",
              "      <td>S</td>\n",
              "    </tr>\n",
              "    <tr>\n",
              "      <th>1</th>\n",
              "      <td>2</td>\n",
              "      <td>Survived</td>\n",
              "      <td>1</td>\n",
              "      <td>Cumings, Mrs. John Bradley (Florence Briggs Th...</td>\n",
              "      <td>female</td>\n",
              "      <td>38.0</td>\n",
              "      <td>1</td>\n",
              "      <td>0</td>\n",
              "      <td>PC 17599</td>\n",
              "      <td>71.2833</td>\n",
              "      <td>C85</td>\n",
              "      <td>C</td>\n",
              "    </tr>\n",
              "    <tr>\n",
              "      <th>2</th>\n",
              "      <td>3</td>\n",
              "      <td>Survived</td>\n",
              "      <td>3</td>\n",
              "      <td>Heikkinen, Miss. Laina</td>\n",
              "      <td>female</td>\n",
              "      <td>26.0</td>\n",
              "      <td>0</td>\n",
              "      <td>0</td>\n",
              "      <td>STON/O2. 3101282</td>\n",
              "      <td>7.9250</td>\n",
              "      <td>NaN</td>\n",
              "      <td>S</td>\n",
              "    </tr>\n",
              "    <tr>\n",
              "      <th>3</th>\n",
              "      <td>4</td>\n",
              "      <td>Survived</td>\n",
              "      <td>1</td>\n",
              "      <td>Futrelle, Mrs. Jacques Heath (Lily May Peel)</td>\n",
              "      <td>female</td>\n",
              "      <td>35.0</td>\n",
              "      <td>1</td>\n",
              "      <td>0</td>\n",
              "      <td>113803</td>\n",
              "      <td>53.1000</td>\n",
              "      <td>C123</td>\n",
              "      <td>S</td>\n",
              "    </tr>\n",
              "    <tr>\n",
              "      <th>4</th>\n",
              "      <td>5</td>\n",
              "      <td>Not Survive</td>\n",
              "      <td>3</td>\n",
              "      <td>Allen, Mr. William Henry</td>\n",
              "      <td>male</td>\n",
              "      <td>35.0</td>\n",
              "      <td>0</td>\n",
              "      <td>0</td>\n",
              "      <td>373450</td>\n",
              "      <td>8.0500</td>\n",
              "      <td>NaN</td>\n",
              "      <td>S</td>\n",
              "    </tr>\n",
              "  </tbody>\n",
              "</table>\n",
              "</div>"
            ],
            "text/plain": [
              "   PassengerId     Survived  Pclass  \\\n",
              "0            1  Not Survive       3   \n",
              "1            2     Survived       1   \n",
              "2            3     Survived       3   \n",
              "3            4     Survived       1   \n",
              "4            5  Not Survive       3   \n",
              "\n",
              "                                                Name     Sex   Age  SibSp  \\\n",
              "0                            Braund, Mr. Owen Harris    male  22.0      1   \n",
              "1  Cumings, Mrs. John Bradley (Florence Briggs Th...  female  38.0      1   \n",
              "2                             Heikkinen, Miss. Laina  female  26.0      0   \n",
              "3       Futrelle, Mrs. Jacques Heath (Lily May Peel)  female  35.0      1   \n",
              "4                           Allen, Mr. William Henry    male  35.0      0   \n",
              "\n",
              "   Parch            Ticket     Fare Cabin Embarked  \n",
              "0      0         A/5 21171   7.2500   NaN        S  \n",
              "1      0          PC 17599  71.2833   C85        C  \n",
              "2      0  STON/O2. 3101282   7.9250   NaN        S  \n",
              "3      0            113803  53.1000  C123        S  \n",
              "4      0            373450   8.0500   NaN        S  "
            ]
          },
          "execution_count": 82,
          "metadata": {},
          "output_type": "execute_result"
        }
      ],
      "source": [
        "titanic = pd.read_csv('https://raw.githubusercontent.com/chroadhouse/FutureMeWorkbook/main/Data/titanic.csv')\n",
        "\n",
        "titanic.head()"
      ]
    },
    {
      "cell_type": "code",
      "execution_count": null,
      "metadata": {
        "id": "euBAMzL_3EIC"
      },
      "outputs": [],
      "source": [
        "# Which method would you run to find out how many values are missing in each column?"
      ]
    },
    {
      "cell_type": "code",
      "execution_count": null,
      "metadata": {
        "id": "_ArhXkcF3EID"
      },
      "outputs": [],
      "source": [
        "# Now try cleaning the data.\n",
        "\n",
        "# - Find the mean of a column that contains NaNs. Use this mean to replace the missing data.\n",
        "\n",
        "\n",
        "\n",
        "\n",
        "# - Get the most frequent value for the value count. Use this to replace the NaN for categorical columns.\n",
        "\n",
        "\n",
        "\n",
        "\n",
        "\n",
        "# - Drop any columns that are missing a lot of data.\n",
        "\n",
        "\n",
        "\n",
        "# Run the method to check the value NaN's to see how well the data has been cleaned."
      ]
    },
    {
      "cell_type": "markdown",
      "metadata": {
        "id": "1c-4Zh423EID"
      },
      "source": [
        "## Day Four: Contingency Tables & Conclusions\n",
        "The objective of this task is to create some contingency tables. For this, we recommend using either the titanic data set or the dataset you chose to use for Day Two's data Visualisation\n"
      ]
    },
    {
      "cell_type": "code",
      "execution_count": null,
      "metadata": {
        "id": "uQ2hU2Sy3EIE"
      },
      "outputs": [],
      "source": [
        "# Create a contingency table between two categorical columns"
      ]
    },
    {
      "cell_type": "markdown",
      "metadata": {
        "id": "Z522U2U3fEjz"
      },
      "source": [
        "Now you have visualised your data in a few different ways, you have a pretty good grasp about what it is showing you. Now it's time to think about **WHY**.\n",
        "\n",
        "Think about the questions we posed about the Titanic dataset in the Day 4 notebook. In these sections, we made a conclusion about the data based on what a graph/chart/table was showing us, then we posed a question prompting you to think about why this might be the case.\n",
        "\n",
        "Now consider the below questions in relation to your data - or use the visualisations you have made to come up with your own!\n",
        "\n",
        "- Do any of your visualisations (graphs/tables/charts etc) show a relationship between two variables? If so, why do you think this relationship exists?\n",
        "\n",
        "- Look at your categories. Is one category significantly (quantitatively) larger than another? Why do you think this may be?\n",
        "\n",
        "- Look at the mode, median and mean of your data. What does this tell you about the dataset? What story does this tell you?\n",
        "\n",
        "Simply double click on the cell below titled 'Conclusions' and enter your thoughts.\n",
        "\n",
        "**Note** - There is no such thing as a wrong answer for this section. We simply want you to practice *interpreting* the results of data now that you have analysed it."
      ]
    },
    {
      "attachments": {},
      "cell_type": "markdown",
      "metadata": {
        "id": "D0SHnK0moMBm"
      },
      "source": [
        "### Conclusions\n",
        "**Note** Double Click to enter your conclusions here:\n",
        "\n",
        "\n",
        "\n",
        "\n",
        "\n",
        "\n",
        "\n",
        "\n",
        "\n",
        "\n",
        "\n",
        "\n",
        "\n",
        "\n",
        "\n"
      ]
    },
    {
      "attachments": {},
      "cell_type": "markdown",
      "metadata": {
        "id": "jD9mJkYG3EIE"
      },
      "source": [
        "# Finished?\n",
        "\n",
        "To upload this notebook:\n",
        "\n",
        "-> click 'File'\n",
        "\n",
        "-> 'Print' \n",
        "\n",
        "-> on the 'Printer' drop down bar, scroll down to 'Print as PDF' \n",
        "\n",
        "-> then click 'Print'.\n",
        "\n",
        "*Can't seem to save as PDF? Don't Panic!*\n",
        "\n",
        "You can also take screenshots of your work, copy them into a Word document, and submit that way."
      ]
    },
    {
      "attachments": {},
      "cell_type": "markdown",
      "metadata": {
        "id": "0el_jiHjpbWP"
      },
      "source": [
        "# Develop your Skills Further...\n",
        "\n",
        "Well done on completing this course. Python and Data Analysis are both skills that are in high demand amongst employers.\n",
        "\n",
        "If you have enjoyed this intorduction to the subject, you should consider broadening your knowledge further. In a society that is placing more and more emphasis on digital skills, Python in particular is a brilliantly versatile one to have on your CV, showing:\n",
        "\n",
        "* Your ability to solve problems\n",
        "* Digital fluency\n",
        "* Your motivation to learn\n",
        "\n",
        "Programming is also one of the main subjects with a large number of detailed resources to help you learn and develop. Some of these resources even provide certificates as proof of your capability in programming. Below is a list of some of these resources that you can take advantage of if you wish to continue strengthening your knowledge.\n",
        "\n",
        "* **FreeCodeCamp** - https://www.freecodecamp.org - Provides easy and intuative instruction with certificates to give credit for course completion offering courses such as:\n",
        "\n",
        "  - Web development\n",
        "  - Data Analysis using python\n",
        "  - Scientific computing using python\n",
        "  - Machine Learning (AI) using python\n",
        "  - Algorithms and Data structures in Javascript\n",
        "\n",
        "* **Linkedin Learning** - All MMU students have free access to LinkedIn Learning. It provides video courses and certificates linked to your LinkedIn account (this also automatically earns you Rise points too)!\n",
        "\n",
        "* **CS Dojo** - Videos on Youtube that provide multiple resources aimed at beginners to try and encourage coding.\n",
        "\n",
        "* **Rise** - It's also a good idea to keep an eye on the Rise website, as new courses are being added all the time. Currently, you can sign up for Python for Scientific Computing and TensorFlow for Artificial Intelligence with Stephen Lynch: https://rise.mmu.ac.uk/activity/python-for-scientific-computing-and-tensorflow-for-artificial-intelligence-3/\n",
        "\n",
        "* Or you could also preorder Stephen Lynch's book, which is centered around Python for Artificial Intelligence and Scientific Computing: https://www.routledge.com/Python-for-Scientific-Computing-and-Artificial-Intelligence/Lynch/p/book/9781032258713#\n",
        "\n",
        "\n",
        "And remember that even experts in Computer Science can encounter problems, it's what can make programming such a rewarding skill. If you do get stuck think about:\n",
        "- Asking a friend for help\n",
        "- Looking for an answer on the internet (programmers are people that are just good at googling!)\n",
        "- Leave and come back to it (Have you ever suddenly noticed a mistake on an essay or an email when ou come back to it a day later? This can be the case for coding too! You can sometimes be staring at the bug without knowing)."
      ]
    }
  ],
  "metadata": {
    "colab": {
      "include_colab_link": true,
      "provenance": []
    },
    "kernelspec": {
      "display_name": "Python 3.9.6 64-bit",
      "language": "python",
      "name": "python3"
    },
    "language_info": {
      "codemirror_mode": {
        "name": "ipython",
        "version": 3
      },
      "file_extension": ".py",
      "mimetype": "text/x-python",
      "name": "python",
      "nbconvert_exporter": "python",
      "pygments_lexer": "ipython3",
      "version": "3.9.6"
    },
    "orig_nbformat": 4,
    "vscode": {
      "interpreter": {
        "hash": "aee8b7b246df8f9039afb4144a1f6fd8d2ca17a180786b69acc140d282b71a49"
      }
    }
  },
  "nbformat": 4,
  "nbformat_minor": 0
}
